{
 "cells": [
  {
   "cell_type": "code",
   "execution_count": 1,
   "metadata": {},
   "outputs": [
    {
     "data": {
      "text/plain": [
       "-1"
      ]
     },
     "execution_count": 1,
     "metadata": {},
     "output_type": "execute_result"
    }
   ],
   "source": [
    "# Necessary imports\n",
    "import cv2 as cv\n",
    "\n",
    "# Close all open windows\n",
    "cv.destroyAllWindows()\n",
    "\n",
    "# Loading the image\n",
    "img = cv.imread(\"face.jpg\")\n",
    "cv.imshow(\"Face\", img)\n",
    "cv.waitKey(1)\n"
   ]
  },
  {
   "cell_type": "code",
   "execution_count": 2,
   "metadata": {},
   "outputs": [
    {
     "data": {
      "text/plain": [
       "-1"
      ]
     },
     "execution_count": 2,
     "metadata": {},
     "output_type": "execute_result"
    }
   ],
   "source": [
    "# Close all open windows\n",
    "cv.destroyAllWindows()\n",
    "\n",
    "'''Next, we need to convert our image into grayscale because Haar cascades work only on gray images. \n",
    "So, we are going to detect faces, eyes and smiles in a grayscale images, \n",
    "but we will draw rectangles around the detected faces on the color images.'''\n",
    "gray = cv.cvtColor(img, cv.COLOR_BGR2GRAY)\n",
    "\n",
    "'''In the first step we will detect the face. \n",
    "To extract coordinates of a rectangle that we are going to draw around the detected face, \n",
    "we need to create object faces. \n",
    "In this object we are going to store our detected faces. \n",
    "With a function detectMultiScale() we will obtain tuple of four elements: \n",
    "\\(x \\) and \\(y \\) are coordinates of a top left corner, and \\(w \\) and \\(h \\) are width and height of the rectangle.\n",
    "This method requires several arguments. First one is the gray image, the input image on which we will detect faces.\n",
    "Second argument is the scale factor which tells us how much the image size is reduced at each image scale. \n",
    "Third and last argument is the minimal number of neighbors. \n",
    "This parameter specifying how many neighbors each candidate rectangle should have to retain it.'''\n",
    "\n",
    "# Creating an object faces\n",
    "face_cascade = cv.CascadeClassifier(\"haarcascade_frontalface_default.xml\")\n",
    "faces= face_cascade.detectMultiScale (gray, 1.1, 10)\n",
    "# Drawing rectangle around the face\n",
    "for(x , y,  w,  h) in faces:\n",
    "  cv.rectangle(img, (x,y) ,(x+w, y+h), (0,165,255), 3)\n",
    "cv.imshow(\"Face Detection\", img)  \n",
    "cv.waitKey(1)\n"
   ]
  },
  {
   "cell_type": "code",
   "execution_count": 3,
   "metadata": {},
   "outputs": [
    {
     "data": {
      "text/plain": [
       "-1"
      ]
     },
     "execution_count": 3,
     "metadata": {},
     "output_type": "execute_result"
    }
   ],
   "source": [
    "# Close all open windows\n",
    "cv.destroyAllWindows()\n",
    "\n",
    "'''Now let’s detect the eyes. In order to do that, \n",
    "first we need to create two regions of interest Now we will detect the eyes. \n",
    "To detect the eyes, first we need to create two regions of interest which will be located inside the rectangle. \n",
    "We need first region for the gray image, where we going to detect the eyes, \n",
    "and second region will be used for the color image where we are going to draw rectangles.'''\n",
    "\n",
    "# Creating two objects of interest\n",
    "roi_gray=gray[y:(y+h), x:(x+w)]\n",
    "roi_color=img[y:(y+h), x:(x+w)]\n",
    "\n",
    "eye_cascade = cv.CascadeClassifier(\"haarcascade_eye.xml\")\n",
    "eyes = eye_cascade.detectMultiScale(roi_gray, 1.1, 10)\n",
    "for (x_eye, y_eye, w_eye, h_eye) in eyes:\n",
    "  cv.rectangle(roi_color,(x_eye, y_eye),(x_eye+w_eye, y_eye+h_eye), (0, 0, 255), 3) \n",
    "cv.imshow(\"Face and Eye Detection\", img) \n",
    "cv.waitKey(1)\n"
   ]
  },
  {
   "cell_type": "code",
   "execution_count": 4,
   "metadata": {},
   "outputs": [
    {
     "data": {
      "text/plain": [
       "-1"
      ]
     },
     "execution_count": 4,
     "metadata": {},
     "output_type": "execute_result"
    }
   ],
   "source": [
    "# Close all open windows\n",
    "cv.destroyAllWindows()\n",
    "\n",
    "smile_cascade = cv.CascadeClassifier('haarcascade_smile.xml')\n",
    "smile = smile_cascade.detectMultiScale(roi_gray, 1.8, 20)\n",
    "\n",
    "for (x_smile, y_smile, w_smile, h_smile) in smile: \n",
    "  cv.rectangle(roi_color,(x_smile, y_smile),(x_smile + w_smile, y_smile + h_smile), (255, 0, 130), 3)\n",
    "\n",
    "cv.imshow(\"Face, Eye, and Smile Detection\", img)\n",
    "cv.waitKey(1)\n"
   ]
  }
 ],
 "metadata": {
  "kernelspec": {
   "display_name": "Python 3",
   "language": "python",
   "name": "python3"
  },
  "language_info": {
   "codemirror_mode": {
    "name": "ipython",
    "version": 3
   },
   "file_extension": ".py",
   "mimetype": "text/x-python",
   "name": "python",
   "nbconvert_exporter": "python",
   "pygments_lexer": "ipython3",
   "version": "3.11.1"
  }
 },
 "nbformat": 4,
 "nbformat_minor": 2
}
